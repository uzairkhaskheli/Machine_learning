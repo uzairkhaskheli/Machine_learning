{
  "nbformat": 4,
  "nbformat_minor": 0,
  "metadata": {
    "colab": {
      "name": "fruit classification.ipynb",
      "provenance": [],
      "collapsed_sections": []
    },
    "kernelspec": {
      "name": "python3",
      "display_name": "Python 3"
    },
    "language_info": {
      "name": "python"
    }
  },
  "cells": [
    {
      "cell_type": "markdown",
      "source": [
        "**Assignment on Fruit Classification:** \n",
        "\n",
        "*   Import the data from assignment02.csv into your Python environment using the csv module.\n",
        "\n",
        "*   Read the data into a two-dimensional list with the following layout: data = [['Green', '4.3', '122', 'Pear'], ['Green', '4.6', '152', 'Pear'], ...],such that each fruit sample is a list of attribute values inside an overall list that holds all samples."
      ],
      "metadata": {
        "id": "GiKdVk4uz40i"
      }
    },
    {
      "cell_type": "code",
      "execution_count": null,
      "metadata": {
        "colab": {
          "base_uri": "https://localhost:8080/"
        },
        "id": "4aDUKamDGDAf",
        "outputId": "e7e2137d-1a7a-437c-cfc9-1e9090a82c86"
      },
      "outputs": [
        {
          "output_type": "execute_result",
          "data": {
            "text/plain": [
              "array([['Color', 'Radius (cm)', 'Weight (grams)', 'Fruit (class)'],\n",
              "       ['Green', '4.3', '122', 'Pear'],\n",
              "       ['Green', '4.6', '152', 'Pear'],\n",
              "       ['Green', '3.1', '85', 'Apple'],\n",
              "       ['Green', '3.6', '173', 'Pear'],\n",
              "       ['Green', '2.5', '65', 'Lemon'],\n",
              "       ['Green', '2.5', '70', 'Apple'],\n",
              "       ['Green', '2.7', '73', 'Apple'],\n",
              "       ['Green', '4.5', '110', 'Pear'],\n",
              "       ['Green', '2.5', '86', 'Apple'],\n",
              "       ['Green', '2.4', '68', 'Lemon'],\n",
              "       ['Green', '4.2', '126', 'Pear'],\n",
              "       ['Red', '3.7', '101', 'Apple'],\n",
              "       ['Red', '3.7', '100', 'Apple'],\n",
              "       ['Red', '3.4', '80', 'Apple'],\n",
              "       ['Red', '3.2', '79', 'Apple'],\n",
              "       ['Red', '3.1', '69', 'Lemon'],\n",
              "       ['Yellow', '2.1', '64', 'Apple'],\n",
              "       ['Yellow', '2.6', '58', 'Lemon'],\n",
              "       ['Yellow', '2.1', '40', 'Lemon'],\n",
              "       ['Yellow', '2.3', '60', 'Lemon'],\n",
              "       ['Yellow', '4.2', '105', 'Pear'],\n",
              "       ['Yellow', '2.1', '40', 'Lemon'],\n",
              "       ['Yellow', '3.2', '64', 'Lemon'],\n",
              "       ['Yellow', '2.9', '53', 'Lemon'],\n",
              "       ['Yellow', '4.1', '135', 'Pear'],\n",
              "       ['Yellow', '5.2', '142', 'Pear'],\n",
              "       ['Yellow', '2.3', '60', 'Lemon'],\n",
              "       ['Yellow', '0', '137', 'Pear'],\n",
              "       ['Yellow', '3', '98', 'Apple'],\n",
              "       ['Yellow', '2.4', '0', 'Lemon'],\n",
              "       ['Yellow', '4.1', '56', 'Lemon'],\n",
              "       ['Yellow', '4.1', '80', 'Apple'],\n",
              "       ['Yellow', '5.2', '141', 'Pear']], dtype='<U14')"
            ]
          },
          "metadata": {},
          "execution_count": 8
        }
      ],
      "source": [
        "# Carrying out first task\n",
        "\n",
        "#Importing imported libraries \n",
        "import csv\n",
        "import numpy as np\n",
        "\n",
        "#loading csv file as csvfile\n",
        "csvfile = open(\"/content/assignment02.csv\")\n",
        "\n",
        "#reading data\n",
        "reader = csv.reader(csvfile)\n",
        "\n",
        "#creating an empty list called data\n",
        "data = []\n",
        "\n",
        "# read each record of the csv table\n",
        "for row in reader: \n",
        "    data.append(row)\n",
        "#closing csv file\n",
        "csvfile.close()\n",
        "\n",
        "# convert to numpy array\n",
        "data = np.array(data) \n",
        "data"
      ]
    },
    {
      "cell_type": "code",
      "source": [
        "#importing library matplotlib\n",
        "\n",
        "import matplotlib.pyplot as plt\n",
        "\n",
        "# Map each fruit class to two lists:\n",
        "# The first list contains the radius values of the corresponding fruit class\n",
        "# The second list contains the weight values of the corresponding fruit class\n",
        "plot_data = {\n",
        "    \"Lemon\": [[], []],\n",
        "    \"Apple\": [[], []],\n",
        "    \"Pear\": [[], []],\n",
        "}\n",
        "# Collect the radius and weight values of each fruit class\n",
        "\n",
        "# exclude the first row, which only contains the column␣labels\n",
        "for row in data[1:]: \n",
        "    fruit_class = row[3]\n",
        "    radius = row[1]\n",
        "    weight = row[2]\n",
        "    plot_data[fruit_class][0].append(float(radius))\n",
        "    plot_data[fruit_class][1].append(float(weight))\n",
        "\n",
        "# Plot the collected data\n",
        "plt.grid(b = True)\n",
        "plt.scatter(plot_data[\"Lemon\"][0], plot_data[\"Lemon\"][1], c = [[0,0,0]], marker=\"o\")\n",
        "plt.scatter(plot_data[\"Apple\"][0], plot_data[\"Apple\"][1], c = [[0,0,0]],marker=\"+\")\n",
        "plt.scatter(plot_data[\"Pear\"][0], plot_data[\"Pear\"][1], c = [[0,0,0]], marker=\"x\")\n",
        "\n",
        "\n",
        "plt.xlabel(\"Radius [cm]\")\n",
        "plt.ylabel(\"Weight [grams]\")\n",
        "plt.show()"
      ],
      "metadata": {
        "colab": {
          "base_uri": "https://localhost:8080/",
          "height": 278
        },
        "id": "wsar8cMTGN_7",
        "outputId": "27279bfe-bdf3-46ad-e85b-b7e9157b5bee"
      },
      "execution_count": null,
      "outputs": [
        {
          "output_type": "display_data",
          "data": {
            "image/png": "[encoded data removed]",
            "text/plain": [
              "<Figure size 432x288 with 1 Axes>"
            ]
          },
          "metadata": {
            "needs_background": "light"
          }
        }
      ]
    },
    {
      "cell_type": "markdown",
      "source": [
        "\n",
        "\n",
        "*   Create bar charts2 showing the color frequency of the fruits classes, i.e., how many apples are green and how many lemons are yellow. \n",
        "\n",
        "\n",
        "*   Mark the bars as belonging to certain fruits through hatching.\n",
        "*   Append a legend to explain the hatching-to-fruit assignment.\n",
        "\n"
      ],
      "metadata": {
        "id": "cGyIoGu-2CWa"
      }
    },
    {
      "cell_type": "code",
      "source": [
        "# Task 2 (b)\n",
        "# Matrix to store the frequency of each color-fruit combination,\n",
        "# where each row represents a color and each column represents a fruit class\n",
        "\n",
        "\n",
        "plot_data = np.zeros((3,3))\n",
        "# Dictionary to map labels to the indices used in the color-fruit-matrix\n",
        "index = {\"Green\" : 0, \"Yellow\" : 1, \"Red\" : 2, \"Apple\" : 0, \"Pear\" : 1, \"Lemon\": 2}\n",
        "\n",
        "\n",
        "# Count the frequency of each color-fruit-combination\n",
        "\n",
        "# exclude the first row, which only contains the column␣labels\n",
        "for row in data[1:]:\n",
        "    color = row[0]\n",
        "    fruit_class = row[3]\n",
        "    plot_data[index[color]][index[fruit_class]] += 1\n",
        "\n",
        "    \n",
        "# In the following, the default bar width of 0.8 is assumed\n",
        "\n",
        "# the distance between two bars\n",
        "bar_distance = 0.9\n",
        "\n",
        "# the distance between two groups of bars (each group represents a color and consists of 3 bars)\n",
        "group_distance = 5 \n",
        "\n",
        "\n",
        "\n",
        "\n",
        "# The positions (along the x-axis) of the bars representing apple frequencies\n",
        "bar_positions_apple = [\n",
        "    0,\n",
        "    group_distance,\n",
        "    2 * group_distance\n",
        "]\n",
        "\n",
        "\n",
        "# The positions (along the x-axis) of the bars representing pear frequencies\n",
        "bar_positions_pear = [\n",
        "    bar_distance,\n",
        "    group_distance + bar_distance,\n",
        "    2 * group_distance + bar_distance\n",
        "]\n",
        "\n",
        "# The positions (along the x-axis) of the bars representing lemon frequencies\n",
        "bar_positions_lemon = [\n",
        "    2 * bar_distance,\n",
        "    group_distance + 2 * bar_distance,\n",
        "    2 * group_distance + 2 * bar_distance\n",
        "]\n",
        "\n",
        "\n",
        "# Plot the collected data\n",
        "plt.figure(figsize=(8,6))\n",
        "plt.bar(bar_positions_apple, plot_data[:, 0], color = [0.7, 0.7, 0.7], hatch = \"/\", label = \"Apples\")\n",
        "plt.bar(bar_positions_pear, plot_data[:, 1], color = [0.7, 0.7, 0.7], hatch = \".\", label = \"Pears\")\n",
        "plt.bar(bar_positions_lemon, plot_data[:, 2], color = [0.7, 0.7, 0.7], hatch = \"\\\\\", label = \"Lemons\")\n",
        "\n",
        "plt.xticks([bar_positions_pear[0], bar_positions_pear[1], bar_positions_pear[2]], [\"Green\", \"Yellow\", \"Red\"])\n",
        "plt.ylabel(\"Frequency\")\n",
        "plt.legend()\n",
        "plt.show()"
      ],
      "metadata": {
        "colab": {
          "base_uri": "https://localhost:8080/",
          "height": 374
        },
        "id": "_oWf_z4kGQS4",
        "outputId": "ee58149c-b8fa-469d-ca9d-b078e1506978"
      },
      "execution_count": null,
      "outputs": [
        {
          "output_type": "display_data",
          "data": {
            "image/png": "[encoded data removed]",
            "text/plain": [
              "<Figure size 576x432 with 1 Axes>"
            ]
          },
          "metadata": {
            "needs_background": "light"
          }
        }
      ]
    },
    {
      "cell_type": "markdown",
      "source": [
        ""
      ],
      "metadata": {
        "id": "DcQhl3LX4jTQ"
      }
    },
    {
      "cell_type": "markdown",
      "source": [
        "Delete ***duplicated samples*** (samples are represented as rows in the data)"
      ],
      "metadata": {
        "id": "RmNLTFsz4jZF"
      }
    },
    {
      "cell_type": "code",
      "source": [
        "# The input is assumed to be a numpy array with string values\n",
        "# This function returns a new array\n",
        "\n",
        "def delete_duplicates(data):\n",
        "\n",
        "    result_data = []\n",
        "    for row in data:\n",
        "        row = list(row)\n",
        "         # convert to list to enable test for equality\n",
        "        if row not in result_data: # add to result if not added already\n",
        "            result_data.append(row)\n",
        "            \n",
        "    return np.array(result_data)\n",
        "\n",
        "        \n",
        "data = delete_duplicates(data)\n",
        "data"
      ],
      "metadata": {
        "colab": {
          "base_uri": "https://localhost:8080/"
        },
        "id": "uW60s3SeGSbo",
        "outputId": "68aba521-c921-4631-c850-2729d43a13a5"
      },
      "execution_count": null,
      "outputs": [
        {
          "output_type": "execute_result",
          "data": {
            "text/plain": [
              "array([['Color', 'Radius (cm)', 'Weight (grams)', 'Fruit (class)'],\n",
              "       ['Green', '4.3', '122', 'Pear'],\n",
              "       ['Green', '4.6', '152', 'Pear'],\n",
              "       ['Green', '3.1', '85', 'Apple'],\n",
              "       ['Green', '3.6', '173', 'Pear'],\n",
              "       ['Green', '2.5', '65', 'Lemon'],\n",
              "       ['Green', '2.5', '70', 'Apple'],\n",
              "       ['Green', '2.7', '73', 'Apple'],\n",
              "       ['Green', '4.5', '110', 'Pear'],\n",
              "       ['Green', '2.5', '86', 'Apple'],\n",
              "       ['Green', '2.4', '68', 'Lemon'],\n",
              "       ['Green', '4.2', '126', 'Pear'],\n",
              "       ['Red', '3.7', '101', 'Apple'],\n",
              "       ['Red', '3.7', '100', 'Apple'],\n",
              "       ['Red', '3.4', '80', 'Apple'],\n",
              "       ['Red', '3.2', '79', 'Apple'],\n",
              "       ['Red', '3.1', '69', 'Lemon'],\n",
              "       ['Yellow', '2.1', '64', 'Apple'],\n",
              "       ['Yellow', '2.6', '58', 'Lemon'],\n",
              "       ['Yellow', '2.1', '40', 'Lemon'],\n",
              "       ['Yellow', '2.3', '60', 'Lemon'],\n",
              "       ['Yellow', '4.2', '105', 'Pear'],\n",
              "       ['Yellow', '3.2', '64', 'Lemon'],\n",
              "       ['Yellow', '2.9', '53', 'Lemon'],\n",
              "       ['Yellow', '4.1', '135', 'Pear'],\n",
              "       ['Yellow', '5.2', '142', 'Pear'],\n",
              "       ['Yellow', '0', '137', 'Pear'],\n",
              "       ['Yellow', '3', '98', 'Apple'],\n",
              "       ['Yellow', '2.4', '0', 'Lemon'],\n",
              "       ['Yellow', '4.1', '56', 'Lemon'],\n",
              "       ['Yellow', '4.1', '80', 'Apple'],\n",
              "       ['Yellow', '5.2', '141', 'Pear']], dtype='<U14')"
            ]
          },
          "metadata": {},
          "execution_count": 4
        }
      ]
    },
    {
      "cell_type": "markdown",
      "source": [
        "Replace ***missing numerical data*** of an attribute (marked by the value of zero) by \n",
        "the mean of the values of this attribute within the class its sample is assigned to. \n",
        "\n",
        "**For example**, if the weight of a single apple is missing, replace it with the mean weight of the other apples.\n"
      ],
      "metadata": {
        "id": "uNbQyxFG41Xp"
      }
    },
    {
      "cell_type": "code",
      "source": [
        "# The input is assumed to be a numpy array with string values\n",
        "# This function modifies the provided array in place\n",
        "\n",
        "def fill_missing_values(data):\n",
        "    # exclude last column (class)\n",
        "    for column_index in range(1, data.shape[1] - 1): \n",
        "        \n",
        "        # check whether the current column contains numerical values\n",
        "        # first row contains the column label, second row the first value\n",
        "        try: \n",
        "            float(data[1, column_index])\n",
        "            # conversion failed => not a numerical attribute\n",
        "        except ValueError: \n",
        "            continue\n",
        "            \n",
        "        # Map each class to a value pair:\n",
        "        # The first component is the sum of all valid values belonging to the corresponding class\n",
        "\n",
        "        class_values = {}\n",
        "        # Row indices of missing values\n",
        "        indices_missing = []\n",
        "        \n",
        "        # Calculate mean of the current column and collect (indices of) missing␣values\n",
        "        \n",
        "        # exclude the first rowwhich only contains the column labels\n",
        "        for row_index in range(1, data.shape[0]):\n",
        "            value = data[row_index, column_index]\n",
        "            if value != \"0\": # valid value\n",
        "                sample_class = data[row_index, -1]\n",
        "                \n",
        "                # check whether the class was encountered already\n",
        "                if sample_class in class_values: \n",
        "                    class_values[sample_class][0] += float(value)\n",
        "                    class_values[sample_class][1] += 1\n",
        "                else:\n",
        "                        class_values[sample_class] = [float(value), 1]\n",
        "            # missing value\n",
        "            else: \n",
        "                indices_missing.append(row_index)\n",
        "\n",
        "        # Replace missing values with mean\n",
        "        for index in indices_missing: \n",
        "            sample_class = data[index, -1]\n",
        "            data[index, column_index] = class_values[sample_class][0] / class_values[sample_class][1]\n",
        "\n",
        "        \n",
        "fill_missing_values(data)\n",
        "data"
      ],
      "metadata": {
        "colab": {
          "base_uri": "https://localhost:8080/"
        },
        "id": "g7Nq_1PDGV8g",
        "outputId": "4f6296c1-9c0a-43ce-a4cd-100a1ded6f84"
      },
      "execution_count": null,
      "outputs": [
        {
          "output_type": "execute_result",
          "data": {
            "text/plain": [
              "array([['Color', 'Radius (cm)', 'Weight (grams)', 'Fruit (class)'],\n",
              "       ['Green', '4.3', '122', 'Pear'],\n",
              "       ['Green', '4.6', '152', 'Pear'],\n",
              "       ['Green', '3.1', '85', 'Apple'],\n",
              "       ['Green', '3.6', '173', 'Pear'],\n",
              "       ['Green', '2.5', '65', 'Lemon'],\n",
              "       ['Green', '2.5', '70', 'Apple'],\n",
              "       ['Green', '2.7', '73', 'Apple'],\n",
              "       ['Green', '4.5', '110', 'Pear'],\n",
              "       ['Green', '2.5', '86', 'Apple'],\n",
              "       ['Green', '2.4', '68', 'Lemon'],\n",
              "       ['Green', '4.2', '126', 'Pear'],\n",
              "       ['Red', '3.7', '101', 'Apple'],\n",
              "       ['Red', '3.7', '100', 'Apple'],\n",
              "       ['Red', '3.4', '80', 'Apple'],\n",
              "       ['Red', '3.2', '79', 'Apple'],\n",
              "       ['Red', '3.1', '69', 'Lemon'],\n",
              "       ['Yellow', '2.1', '64', 'Apple'],\n",
              "       ['Yellow', '2.6', '58', 'Lemon'],\n",
              "       ['Yellow', '2.1', '40', 'Lemon'],\n",
              "       ['Yellow', '2.3', '60', 'Lemon'],\n",
              "       ['Yellow', '4.2', '105', 'Pear'],\n",
              "       ['Yellow', '3.2', '64', 'Lemon'],\n",
              "       ['Yellow', '2.9', '53', 'Lemon'],\n",
              "       ['Yellow', '4.1', '135', 'Pear'],\n",
              "       ['Yellow', '5.2', '142', 'Pear'],\n",
              "       ['Yellow', '4.433333333333', '137', 'Pear'],\n",
              "       ['Yellow', '3', '98', 'Apple'],\n",
              "       ['Yellow', '2.4', '59.22222222222', 'Lemon'],\n",
              "       ['Yellow', '4.1', '56', 'Lemon'],\n",
              "       ['Yellow', '4.1', '80', 'Apple'],\n",
              "       ['Yellow', '5.2', '141', 'Pear']], dtype='<U14')"
            ]
          },
          "metadata": {},
          "execution_count": 5
        }
      ]
    },
    {
      "cell_type": "markdown",
      "source": [
        "Transform ***nominal attributes*** (not the classes!) into numerical values."
      ],
      "metadata": {
        "id": "-KsGaPEX5aNP"
      }
    },
    {
      "cell_type": "code",
      "source": [
        "def nominals_to_numericals(data):\n",
        "\n",
        "  # The input is assumed to be a numpy array with string values\n",
        "# This function returns a new array\n",
        "\n",
        " # the columns of the result array\n",
        "  result_columns = []\n",
        "  \n",
        "  for column_index in range(0, data.shape[1] - 1):\n",
        "\n",
        "    # exclude last column (class)\n",
        "# check whether the current column contains numerical values\n",
        "    numerical = True\n",
        "  \n",
        "\n",
        "    try:\n",
        "        float(data[1, column_index])\n",
        "    except ValueError:\n",
        "      numerical = False\n",
        "\n",
        "      if numerical:\n",
        "        # adopt the column without changes\n",
        "        column = data[:, column_index]\n",
        "        result_columns.append(column.reshape((column.shape[0], 1)))\n",
        "#convert column to n x 1 matrix to enable stacking later (numpy requires arrays to have equal number of dimensions for stacking)\n",
        "\n",
        "      else: #nominal\n",
        "       nominals = []\n",
        "\n",
        "       # list of all possible values a nominal attribute may take (e.g. green, red, yellow)\n",
        "      # It is assumed here that all possible values of a nominal attribute appear in the data\n",
        "\n",
        "\n",
        "       for row_index in range(1, data.shape[0]):\n",
        "         # exclude the first row which only contains the column labels\n",
        "         value = data[row_index, column_index]\n",
        "         if value not in nominals:\n",
        "           # check whether the current value was encountered already\n",
        "           nominals.append(value)\n",
        "           \n",
        "           # Create a n x m matrix, where n is the number of rows and m is the number of possible nominal values\n",
        "          # This matrix represents the newly created columns and is initially filled with zeros\n",
        "           new_columns = np.full((data.shape[0], len(nominals)), \"0\", data.dtype)\n",
        "\n",
        "# Create the column labels\n",
        "      for index, column_label in enumerate(nominals):\n",
        "              new_columns[0, index] = column_label\n",
        "\n",
        "# Set the values of the new columns\n",
        "      for row_index in range(1, data.shape[0]):\n",
        "          value = data[row_index, column_index]\n",
        "          new_columns[row_index, nominals.index(value)] = \"1\"\n",
        "          \n",
        "          result_columns.append(new_columns)\n",
        "\n",
        "          # Add last column (= class)\n",
        "      column = data[:, -1]\n",
        "      result_columns.append(column.reshape((column.shape[0], 1)))\n",
        "          \n",
        "      return np.hstack(result_columns)\n",
        "\n",
        "\n",
        "data = nominals_to_numericals(data)\n",
        "data"
      ],
      "metadata": {
        "colab": {
          "base_uri": "https://localhost:8080/"
        },
        "id": "K3fkgsbp5o1W",
        "outputId": "d63ff4d5-2f49-4985-fc2c-445caa1d3eb4"
      },
      "execution_count": null,
      "outputs": [
        {
          "output_type": "execute_result",
          "data": {
            "text/plain": [
              "array([['Green', 'Red', 'Yellow', ..., 'Red', 'Yellow', 'Fruit (class)'],\n",
              "       ['1', '0', '0', ..., '0', '0', 'Pear'],\n",
              "       ['1', '0', '0', ..., '0', '0', 'Pear'],\n",
              "       ...,\n",
              "       ['0', '0', '1', ..., '0', '1', 'Lemon'],\n",
              "       ['0', '0', '1', ..., '0', '1', 'Apple'],\n",
              "       ['0', '0', '1', ..., '0', '1', 'Pear']], dtype='<U14')"
            ]
          },
          "metadata": {},
          "execution_count": 9
        }
      ]
    },
    {
      "cell_type": "markdown",
      "source": [
        "***Normalize*** the values of each attribute x (so each column) with the min-max scaling."
      ],
      "metadata": {
        "id": "Ygwl0AhS5cCy"
      }
    },
    {
      "cell_type": "code",
      "source": [
        "def min_max_normalization(data):\n",
        "  # The input is assumed to be a numpy array with string values\n",
        "# This function modifies the provided array in place\n",
        "  for column_index in range(0, data.shape[1] - 1):\n",
        "\n",
        "    # Initialize minimum and maximum\n",
        "    min_value = max_value = float(data[1, column_index])\\\n",
        "\n",
        "    # Determine minimum and maximum of the current column\n",
        "    \n",
        "    for row_index in range(1, data.shape[0]):\n",
        "      value = float(data[row_index, column_index])\n",
        "      \n",
        "      if value < min_value:\n",
        "        min_value = value\n",
        "        if value > max_value:\n",
        "          max_value = value\n",
        "          for row_index in range(1, data.shape[0]):\n",
        "            value = float(data[row_index, column_index])\n",
        "            # Normalize all values\n",
        "            data[row_index, column_index] = (value - min_value) / max_min_diff\n",
        "\n",
        "min_max_normalization(data)\n",
        "data\n"
      ],
      "metadata": {
        "colab": {
          "base_uri": "https://localhost:8080/"
        },
        "id": "PWZbVUU55nu4",
        "outputId": "ab950e50-f0a0-4594-8e45-b0250455c73e"
      },
      "execution_count": null,
      "outputs": [
        {
          "output_type": "execute_result",
          "data": {
            "text/plain": [
              "array([['Green', 'Red', 'Yellow', ..., 'Red', 'Yellow', 'Fruit (class)'],\n",
              "       ['1', '0', '0', ..., '0', '0', 'Pear'],\n",
              "       ['1', '0', '0', ..., '0', '0', 'Pear'],\n",
              "       ...,\n",
              "       ['0', '0', '1', ..., '0', '1', 'Lemon'],\n",
              "       ['0', '0', '1', ..., '0', '1', 'Apple'],\n",
              "       ['0', '0', '1', ..., '0', '1', 'Pear']], dtype='<U14')"
            ]
          },
          "metadata": {},
          "execution_count": 11
        }
      ]
    },
    {
      "cell_type": "code",
      "source": [
        ""
      ],
      "metadata": {
        "id": "Y4XvsTrlFE13"
      },
      "execution_count": null,
      "outputs": []
    }
  ]
}